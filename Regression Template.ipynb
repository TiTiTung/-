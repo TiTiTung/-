{
 "cells": [
  {
   "cell_type": "code",
   "execution_count": null,
   "metadata": {
    "collapsed": true
   },
   "outputs": [],
   "source": [
    "import pandas as pd\n",
    "import numpy as np\n",
    "from sklearn.model_selection import train_test_split\n",
    "%matplotlib inline\n",
    "pd.set_option('display.max_columns', 500)"
   ]
  },
  {
   "cell_type": "code",
   "execution_count": 26,
   "metadata": {
    "collapsed": false
   },
   "outputs": [],
   "source": [
    "advworkscusts = pd.read_csv('AdvWorksCusts.csv')\n",
    "aw_avemonthspend = pd.read_csv('AW_AveMonthSpend.csv')\n",
    "aw_test = pd.read_csv('AW_test.csv')"
   ]
  },
  {
   "cell_type": "code",
   "execution_count": 27,
   "metadata": {
    "collapsed": true
   },
   "outputs": [],
   "source": [
    "advworkscusts['BirthDate'] = pd.to_datetime(advworkscusts['BirthDate'])\n",
    "advworkscusts['age'] = 1998 - advworkscusts['BirthDate'].dt.year\n",
    "\n",
    "aw_test['BirthDate'] = pd.to_datetime(aw_test['BirthDate'])\n",
    "aw_test['age'] = 1998 - aw_test['BirthDate'].dt.year"
   ]
  },
  {
   "cell_type": "code",
   "execution_count": 28,
   "metadata": {
    "collapsed": false
   },
   "outputs": [],
   "source": [
    "advworkscusts.drop(['CustomerID', 'Title', 'FirstName', 'MiddleName', 'LastName', 'Suffix', 'AddressLine1', 'AddressLine2'], axis=1, inplace=True)\n",
    "advworkscusts.drop(['City', 'StateProvinceName', 'PostalCode', 'PhoneNumber', 'BirthDate'], axis=1, inplace=True)"
   ]
  },
  {
   "cell_type": "code",
   "execution_count": 30,
   "metadata": {
    "collapsed": false
   },
   "outputs": [],
   "source": [
    "aw_test.drop(['CustomerID', 'Title', 'FirstName', 'MiddleName', 'LastName', 'Suffix', 'AddressLine1', 'AddressLine2'], axis=1, inplace=True)\n",
    "aw_test.drop(['City', 'StateProvinceName', 'PostalCode', 'PhoneNumber', 'BirthDate'], axis=1, inplace=True)"
   ]
  },
  {
   "cell_type": "code",
   "execution_count": 32,
   "metadata": {
    "collapsed": true
   },
   "outputs": [],
   "source": [
    "advworkscusts = pd.get_dummies(advworkscusts)\n",
    "aw_test = pd.get_dummies(aw_test)"
   ]
  },
  {
   "cell_type": "code",
   "execution_count": 34,
   "metadata": {
    "collapsed": false
   },
   "outputs": [],
   "source": [
    "train_X, val_X, train_y, val_y = (train_test_split(advworkscusts, aw_avemonthspend['AveMonthSpend'], test_size=0.2, random_state=2019))"
   ]
  },
  {
   "cell_type": "code",
   "execution_count": 35,
   "metadata": {
    "collapsed": true
   },
   "outputs": [],
   "source": [
    "from xgboost import XGBRegressor\n",
    "from sklearn.model_selection import RandomizedSearchCV"
   ]
  },
  {
   "cell_type": "code",
   "execution_count": 36,
   "metadata": {
    "collapsed": false
   },
   "outputs": [
    {
     "name": "stdout",
     "output_type": "stream",
     "text": [
      "Fitting 5 folds for each of 50 candidates, totalling 250 fits\n"
     ]
    },
    {
     "name": "stderr",
     "output_type": "stream",
     "text": [
      "[Parallel(n_jobs=4)]: Done  42 tasks      | elapsed:  2.6min\n",
      "[Parallel(n_jobs=4)]: Done 192 tasks      | elapsed: 18.7min\n",
      "[Parallel(n_jobs=4)]: Done 250 out of 250 | elapsed: 24.3min finished\n"
     ]
    },
    {
     "data": {
      "text/plain": [
       "XGBRegressor(base_score=0.5, booster='gbtree', colsample_bylevel=1,\n",
       "       colsample_bytree=1, gamma=0, importance_type='gain',\n",
       "       learning_rate=0.01, max_delta_step=0, max_depth=5,\n",
       "       min_child_weight=1, missing=None, n_estimators=1000, n_jobs=1,\n",
       "       nthread=None, objective='reg:linear', random_state=0, reg_alpha=0,\n",
       "       reg_lambda=1, scale_pos_weight=1, seed=None, silent=True,\n",
       "       subsample=1)"
      ]
     },
     "execution_count": 36,
     "metadata": {},
     "output_type": "execute_result"
    }
   ],
   "source": [
    "parameters= {'max_depth':[3, 4, 5, 6, 7, 8, 9, 10], 'learning_rate':[0.1, 0.01, 0.001, 0.0001, 0.00001], 'n_estimators':[100, 300, 500, 1000]}\n",
    "model = XGBRegressor()\n",
    "model.fit(advworkscusts, aw_avemonthspend['AveMonthSpend'])\n",
    "best_model = RandomizedSearchCV(model, parameters, cv=5, scoring='neg_mean_squared_error', verbose=1, n_jobs=4, n_iter=50)\n",
    "best_model.fit(advworkscusts, aw_avemonthspend['AveMonthSpend'])\n",
    "best_model.best_estimator_"
   ]
  },
  {
   "cell_type": "code",
   "execution_count": 37,
   "metadata": {
    "collapsed": false,
    "scrolled": false
   },
   "outputs": [
    {
     "name": "stdout",
     "output_type": "stream",
     "text": [
      "[0]\tvalidation_0-rmse:69.5228\n",
      "Will train until validation_0-rmse hasn't improved in 10 rounds.\n",
      "[1]\tvalidation_0-rmse:62.6405\n",
      "[2]\tvalidation_0-rmse:56.4563\n",
      "[3]\tvalidation_0-rmse:50.8863\n",
      "[4]\tvalidation_0-rmse:45.8759\n",
      "[5]\tvalidation_0-rmse:41.3688\n",
      "[6]\tvalidation_0-rmse:37.3121\n",
      "[7]\tvalidation_0-rmse:33.6628\n",
      "[8]\tvalidation_0-rmse:30.3878\n",
      "[9]\tvalidation_0-rmse:27.431\n",
      "[10]\tvalidation_0-rmse:24.7761\n",
      "[11]\tvalidation_0-rmse:22.3904\n",
      "[12]\tvalidation_0-rmse:20.2481\n",
      "[13]\tvalidation_0-rmse:18.3216\n",
      "[14]\tvalidation_0-rmse:16.5904\n",
      "[15]\tvalidation_0-rmse:15.0354\n",
      "[16]\tvalidation_0-rmse:13.6411\n",
      "[17]\tvalidation_0-rmse:12.3941\n",
      "[18]\tvalidation_0-rmse:11.2752\n",
      "[19]\tvalidation_0-rmse:10.2717\n",
      "[20]\tvalidation_0-rmse:9.37638\n",
      "[21]\tvalidation_0-rmse:8.58094\n",
      "[22]\tvalidation_0-rmse:7.87446\n",
      "[23]\tvalidation_0-rmse:7.24696\n",
      "[24]\tvalidation_0-rmse:6.6963\n",
      "[25]\tvalidation_0-rmse:6.20144\n",
      "[26]\tvalidation_0-rmse:5.76863\n",
      "[27]\tvalidation_0-rmse:5.39022\n",
      "[28]\tvalidation_0-rmse:5.06181\n",
      "[29]\tvalidation_0-rmse:4.77464\n",
      "[30]\tvalidation_0-rmse:4.52838\n",
      "[31]\tvalidation_0-rmse:4.31241\n",
      "[32]\tvalidation_0-rmse:4.12686\n",
      "[33]\tvalidation_0-rmse:3.96823\n",
      "[34]\tvalidation_0-rmse:3.83374\n",
      "[35]\tvalidation_0-rmse:3.7203\n",
      "[36]\tvalidation_0-rmse:3.62507\n",
      "[37]\tvalidation_0-rmse:3.54261\n",
      "[38]\tvalidation_0-rmse:3.47415\n",
      "[39]\tvalidation_0-rmse:3.41594\n",
      "[40]\tvalidation_0-rmse:3.36799\n",
      "[41]\tvalidation_0-rmse:3.32717\n",
      "[42]\tvalidation_0-rmse:3.29207\n",
      "[43]\tvalidation_0-rmse:3.26448\n",
      "[44]\tvalidation_0-rmse:3.24127\n",
      "[45]\tvalidation_0-rmse:3.22229\n",
      "[46]\tvalidation_0-rmse:3.20447\n",
      "[47]\tvalidation_0-rmse:3.19097\n",
      "[48]\tvalidation_0-rmse:3.17832\n",
      "[49]\tvalidation_0-rmse:3.16854\n",
      "[50]\tvalidation_0-rmse:3.1589\n",
      "[51]\tvalidation_0-rmse:3.15177\n",
      "[52]\tvalidation_0-rmse:3.14539\n",
      "[53]\tvalidation_0-rmse:3.14004\n",
      "[54]\tvalidation_0-rmse:3.13524\n",
      "[55]\tvalidation_0-rmse:3.132\n",
      "[56]\tvalidation_0-rmse:3.1294\n",
      "[57]\tvalidation_0-rmse:3.12673\n",
      "[58]\tvalidation_0-rmse:3.12426\n",
      "[59]\tvalidation_0-rmse:3.12206\n",
      "[60]\tvalidation_0-rmse:3.11986\n",
      "[61]\tvalidation_0-rmse:3.11807\n",
      "[62]\tvalidation_0-rmse:3.11751\n",
      "[63]\tvalidation_0-rmse:3.11589\n",
      "[64]\tvalidation_0-rmse:3.11545\n",
      "[65]\tvalidation_0-rmse:3.11399\n",
      "[66]\tvalidation_0-rmse:3.11415\n",
      "[67]\tvalidation_0-rmse:3.11355\n",
      "[68]\tvalidation_0-rmse:3.11333\n",
      "[69]\tvalidation_0-rmse:3.11285\n",
      "[70]\tvalidation_0-rmse:3.11211\n",
      "[71]\tvalidation_0-rmse:3.11163\n",
      "[72]\tvalidation_0-rmse:3.11109\n",
      "[73]\tvalidation_0-rmse:3.11134\n",
      "[74]\tvalidation_0-rmse:3.11121\n",
      "[75]\tvalidation_0-rmse:3.11096\n",
      "[76]\tvalidation_0-rmse:3.11123\n",
      "[77]\tvalidation_0-rmse:3.11074\n",
      "[78]\tvalidation_0-rmse:3.11014\n",
      "[79]\tvalidation_0-rmse:3.10982\n",
      "[80]\tvalidation_0-rmse:3.10949\n",
      "[81]\tvalidation_0-rmse:3.10926\n",
      "[82]\tvalidation_0-rmse:3.10991\n",
      "[83]\tvalidation_0-rmse:3.10998\n",
      "[84]\tvalidation_0-rmse:3.1094\n",
      "[85]\tvalidation_0-rmse:3.10985\n",
      "[86]\tvalidation_0-rmse:3.1106\n",
      "[87]\tvalidation_0-rmse:3.11036\n",
      "[88]\tvalidation_0-rmse:3.11115\n",
      "[89]\tvalidation_0-rmse:3.11157\n",
      "[90]\tvalidation_0-rmse:3.11185\n",
      "[91]\tvalidation_0-rmse:3.11179\n",
      "Stopping. Best iteration:\n",
      "[81]\tvalidation_0-rmse:3.10926\n",
      "\n"
     ]
    },
    {
     "data": {
      "text/plain": [
       "XGBRegressor(base_score=0.5, booster='gbtree', colsample_bylevel=1,\n",
       "       colsample_bytree=1, gamma=0, importance_type='gain',\n",
       "       learning_rate=0.1, max_delta_step=0, max_depth=5,\n",
       "       min_child_weight=1, missing=None, n_estimators=100, n_jobs=1,\n",
       "       nthread=None, objective='reg:linear', random_state=0, reg_alpha=0,\n",
       "       reg_lambda=1, scale_pos_weight=1, seed=None, silent=True,\n",
       "       subsample=1)"
      ]
     },
     "execution_count": 37,
     "metadata": {},
     "output_type": "execute_result"
    }
   ],
   "source": [
    "eval_set =  [(val_X, val_y)]\n",
    "model = XGBRegressor(learning_rate=0.1, max_depth=5, n_estimators=100)\n",
    "model.fit(train_X, train_y, early_stopping_rounds=10, eval_metric=\"rmse\",\n",
    "          eval_set=eval_set, verbose=True)"
   ]
  },
  {
   "cell_type": "code",
   "execution_count": 38,
   "metadata": {
    "collapsed": false
   },
   "outputs": [],
   "source": [
    "test_y = model.predict(aw_test)"
   ]
  },
  {
   "cell_type": "code",
   "execution_count": 39,
   "metadata": {
    "collapsed": true
   },
   "outputs": [],
   "source": [
    "aw_test = pd.read_csv('AW_test.csv')"
   ]
  },
  {
   "cell_type": "code",
   "execution_count": 40,
   "metadata": {
    "collapsed": true
   },
   "outputs": [],
   "source": [
    "result = pd.DataFrame(data=list(zip(aw_test['CustomerID'], test_y)), columns=['CustomerID', 'AveMonthSpend'])"
   ]
  },
  {
   "cell_type": "code",
   "execution_count": 41,
   "metadata": {
    "collapsed": true
   },
   "outputs": [],
   "source": [
    "result.to_csv('result.csv', index=False)"
   ]
  }
 ],
 "metadata": {
  "kernelspec": {
   "display_name": "Python 3",
   "language": "python",
   "name": "python3"
  },
  "language_info": {
   "codemirror_mode": {
    "name": "ipython",
    "version": 3
   },
   "file_extension": ".py",
   "mimetype": "text/x-python",
   "name": "python",
   "nbconvert_exporter": "python",
   "pygments_lexer": "ipython3",
   "version": "3.6.8"
  }
 },
 "nbformat": 4,
 "nbformat_minor": 2
}
